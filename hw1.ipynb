{
 "cells": [
  {
   "cell_type": "markdown",
   "metadata": {},
   "source": [
    "# Домашнее задание 1 (26 pts)\n"
   ]
  },
  {
   "cell_type": "markdown",
   "metadata": {},
   "source": [
    "- (2 pts) Докажите, что $\\| A \\|_F \\le \\sqrt{\\mathrm{rank}(A)} \\| A \\|_2$.\\\n",
    "  $\\| A \\|^2_F = \\sum \\limits_{i = 1}^{\\mathrm{rank}(A)} \\sigma_i^2 \\leq \\mathrm{rank}{(A)} \\max \\limits_{i} \\sigma_i^2 = \\mathrm{rank}{(A)} \\| A \\|^2_2 \\Rightarrow \\| A \\|_F \\le \\sqrt{\\mathrm{rank}(A)} \\| A \\|_2$\n",
    "- (2 pts) Покажите, что для любых $m, n$ и $k \\le \\min(m, n)$ существует $A \\in \\mathbb{R}^{m \\times n}: \\mathrm{rank}(A) = k$, такая что $\\| A \\|_F = \\sqrt{\\mathrm{rank}(A)} \\| A \\|_2$.\\\n",
    "   Возьмем матрицу:\n",
    "  $\n",
    "    A = \\begin{bmatrix}\n",
    "    I_k & 0 \\\\\n",
    "    0 & 0\n",
    "    \\end{bmatrix}_{m\\times n}\n",
    "$\\\n",
    "   \\\n",
    "   $\\| A \\|_F = \\sqrt{k} = \\sqrt{\\mathrm{rank}{(A)}} * 1 = \\sqrt{\\mathrm{rank}{(A)}} * \\max \\limits_{i} \\sigma_i = \\sqrt{\\mathrm{rank}{(A)}} \\| A \\|_2$\n",
    "- (2 pts) Докажите, что $\\| A B \\|_F \\le \\| A \\|_2 \\| B \\|_F$.\\\n",
    "  $\\| AB \\|^2_F = \\| A [b_1, \\dots, b_n] \\|^2_F = \\| [Ab_1, \\dots, Ab_n] \\|^2_F = \\sum \\limits_{i = 1}^n \\| Ab_i \\|^2_2 \\leq \\| A \\|^2_2 \\sum \\limits_{i = 1}^n \\| b_i \\|^2_2 = \\| A \\|^2_2 \\| B \\|^2_F \\Rightarrow$\\\n",
    "  $\\| A B \\|_F \\leq \\| A \\|_2 \\| B \\|_F$\n",
    "\n",
    "- (2 pts) Пусть матрица $A \\in \\mathbb{C}^{n \\times n}$ и её сингулярное разложение $A = U\\Sigma V^*$. Найдите сингулярное разложение матрицы $\\begin{bmatrix} 0 & A^* \\\\ A & 0 \\end{bmatrix}$ размера $2n \\times 2n$\\\n",
    "   \\\n",
    "   Сделаем следующие преобразования:\\\n",
    "   \\\n",
    "   $\n",
    "\\begin{bmatrix}\n",
    "0 & A^* \\\\\n",
    "A & 0\n",
    "\\end{bmatrix}\n",
    "=\n",
    "\\begin{bmatrix}\n",
    "0 & V\\Sigma U^* \\\\\n",
    "U\\Sigma V^* & 0\n",
    "\\end{bmatrix}\n",
    "=\n",
    "\\begin{bmatrix}\n",
    "0 & V \\\\\n",
    "U & 0\n",
    "\\end{bmatrix}\n",
    "\\begin{bmatrix}\n",
    "\\Sigma & 0\n",
    "\\\\ 0 & \\Sigma\n",
    "\\end{bmatrix}\n",
    "\\begin{bmatrix}\n",
    "V^* & 0\n",
    "\\\\ 0 & U^*\n",
    "\\end{bmatrix}\n",
    "$\\\n",
    "   \\\n",
    "   Это сингулярное разложение, потому что матрицы слева и справа очевидно унитарные\n",
    "- (7 pts) Пусть известно QR разложение прямоугольной $m\\times n, m > n$ матрицы $A = QR$. Покажите, как изменится данное разложение при следующих изменениях матрицы $A$\n",
    "  - замена $k$-го столбца на другой вектор-столбец\n",
    "  - конкатенация новой строки - новая матрица размерности $(m+1) \\times n$\n",
    "  - конкатенация нового столбца - новая матрица размерности $m \\times n+1$\n",
    "\n",
    "Оцените сложность каждого из этих преобразований. Реализуйте все три преобразования и покажите численно, что ваши алгоритмы обновлений работают корректно и быстрее наивных реализаций с полным пересчётом матриц $Q$ и $R$. Используйте тестовые матрицы размерностями не меньше нескольких сотен строк и столбцов.\n"
   ]
  },
  {
   "cell_type": "code",
   "execution_count": 39,
   "metadata": {},
   "outputs": [],
   "source": [
    "import numpy as np\n",
    "\n",
    "np.random.seed(42)\n",
    "\n",
    "\n",
    "def givens_rotation(Q, R, k, l, column):\n",
    "    a_k, a_l = R[k, column], R[l, column]\n",
    "    cos = a_k / (a_k**2 + a_l**2) ** 0.5\n",
    "    sin = -a_l / (a_k**2 + a_l**2) ** 0.5\n",
    "    G = np.array([[cos, -sin], [sin, cos]])\n",
    "    Q[:, k : l + 1] = Q[:, k : l + 1] @ G.T\n",
    "    R[k : l + 1] = G @ R[k : l + 1]\n",
    "\n",
    "\n",
    "M, N, k = 2000, 1000, 0"
   ]
  },
  {
   "cell_type": "markdown",
   "metadata": {},
   "source": [
    "Посмотрим сколько делается QR разложение\n"
   ]
  },
  {
   "cell_type": "code",
   "execution_count": 40,
   "metadata": {},
   "outputs": [],
   "source": [
    "A = np.random.rand(M, N)"
   ]
  },
  {
   "cell_type": "code",
   "execution_count": 41,
   "metadata": {},
   "outputs": [
    {
     "name": "stdout",
     "output_type": "stream",
     "text": [
      "111 ms ± 11 ms per loop (mean ± std. dev. of 7 runs, 10 loops each)\n"
     ]
    }
   ],
   "source": [
    "%%timeit\n",
    "\n",
    "Q, R = np.linalg.qr(A, mode=\"complete\")"
   ]
  },
  {
   "cell_type": "markdown",
   "metadata": {},
   "source": [
    "### 1\n"
   ]
  },
  {
   "cell_type": "markdown",
   "metadata": {},
   "source": [
    "Обозначим новый столбец за $u$, тогда заменим k-ый столбец в матрице $R$ на $Q^*u$. Тогда с помощью преобразований Гивенса мы можем обнулить все элементы ниже диагонали в k-ом столбце за $O(M^2)$, при этом получится матрица верхне-гессенберговая. Её же можно привести к верхнетреугольной за $O(MN)$. Преобразование Гивенса не портит ортогональность, поэтому $Q$ остаётся унитарной матрицей. Итоговая асимптотика $O(M^2)$\n"
   ]
  },
  {
   "cell_type": "code",
   "execution_count": 42,
   "metadata": {},
   "outputs": [
    {
     "data": {
      "text/plain": [
       "((2000, 2000), (2000, 1000))"
      ]
     },
     "execution_count": 42,
     "metadata": {},
     "output_type": "execute_result"
    }
   ],
   "source": [
    "A = np.random.rand(M, N)\n",
    "Q, R = np.linalg.qr(A, mode=\"complete\")\n",
    "Q.shape, R.shape"
   ]
  },
  {
   "cell_type": "markdown",
   "metadata": {},
   "source": [
    "Сгенерируем новый столбец\n"
   ]
  },
  {
   "cell_type": "code",
   "execution_count": 43,
   "metadata": {},
   "outputs": [
    {
     "data": {
      "text/plain": [
       "(2000, 1)"
      ]
     },
     "execution_count": 43,
     "metadata": {},
     "output_type": "execute_result"
    }
   ],
   "source": [
    "u = np.random.rand(M, 1)\n",
    "u.shape"
   ]
  },
  {
   "cell_type": "markdown",
   "metadata": {},
   "source": [
    "Заменим столбец в матрице $R$ и обнулим все что ниже диагонали с помощью преобразований Гивенса и узнаем сколько это делается\n"
   ]
  },
  {
   "cell_type": "code",
   "execution_count": 44,
   "metadata": {},
   "outputs": [
    {
     "name": "stdout",
     "output_type": "stream",
     "text": [
      "81.5 ms ± 337 µs per loop (mean ± std. dev. of 7 runs, 10 loops each)\n"
     ]
    }
   ],
   "source": [
    "%%timeit\n",
    "\n",
    "R[:, k] = (Q.T @ u)[:, 0]\n",
    "for row in range(M - 1, k, -1):  # O(M^2)\n",
    "    givens_rotation(Q, R, row - 1, row, k)  # O(M)\n",
    "R[k + 1 :, k] = 0  # для наглядности\n",
    "for column in range(k + 1, N - 1):  # O(MN)\n",
    "    givens_rotation(Q, R, column, column + 1, column)  # O(M)\n",
    "    R[column + 1 :, column] = 0  # для наглядности"
   ]
  },
  {
   "cell_type": "code",
   "execution_count": 8,
   "metadata": {},
   "outputs": [
    {
     "data": {
      "text/plain": [
       "array([[25.53335917, 19.27525813, 19.43577843, 19.50079717, 19.48112715],\n",
       "       [ 0.        , 16.91215537,  7.53449417,  6.77670583,  7.24143148],\n",
       "       [ 0.        ,  0.        , 15.4126777 ,  4.39788857,  4.84651498],\n",
       "       [ 0.        ,  0.        ,  0.        , 14.66298051,  3.302877  ],\n",
       "       [ 0.        ,  0.        ,  0.        ,  0.        , 14.23568398],\n",
       "       [ 0.        ,  0.        ,  0.        ,  0.        ,  0.        ],\n",
       "       [ 0.        ,  0.        ,  0.        ,  0.        ,  0.        ],\n",
       "       [ 0.        ,  0.        ,  0.        ,  0.        ,  0.        ],\n",
       "       [ 0.        ,  0.        ,  0.        ,  0.        ,  0.        ],\n",
       "       [ 0.        ,  0.        ,  0.        ,  0.        ,  0.        ]])"
      ]
     },
     "execution_count": 8,
     "metadata": {},
     "output_type": "execute_result"
    }
   ],
   "source": [
    "R[:, k] = (Q.T @ u)[:, 0]\n",
    "for row in range(M - 1, k, -1):  # O(M^2)\n",
    "    givens_rotation(Q, R, row - 1, row, k)  # O(M)\n",
    "R[k + 1 :, k] = 0  # для наглядности\n",
    "for column in range(k + 1, N - 1):  # O(MN)\n",
    "    givens_rotation(Q, R, column, column + 1, column)  # O(M)\n",
    "    R[column + 1 :, column] = 0  # для наглядности\n",
    "R[:10, :5]"
   ]
  },
  {
   "cell_type": "markdown",
   "metadata": {},
   "source": [
    "Проверим корректность\n"
   ]
  },
  {
   "cell_type": "code",
   "execution_count": 45,
   "metadata": {},
   "outputs": [
    {
     "data": {
      "text/plain": [
       "True"
      ]
     },
     "execution_count": 45,
     "metadata": {},
     "output_type": "execute_result"
    }
   ],
   "source": [
    "A[:, k] = u[:, 0]\n",
    "np.isclose(A, Q @ R).all()"
   ]
  },
  {
   "cell_type": "markdown",
   "metadata": {},
   "source": [
    "Как видно мы получили QR разложение для новой матрицы $A$, потратив на это $O(M^2)$ операций. Тесты скорости это подтверждают, даже учитывая, что рассмотрен самый худщий случай замены 1 столбца и были использованы питоновские циклы.\n"
   ]
  },
  {
   "cell_type": "markdown",
   "metadata": {},
   "source": [
    "### 2\n"
   ]
  },
  {
   "cell_type": "markdown",
   "metadata": {},
   "source": [
    "Рассмотрим преобразование:\\\n",
    "\\\n",
    "$\n",
    "\\begin{bmatrix}\n",
    "A \\\\\n",
    "u^*\n",
    "\\end{bmatrix} =\n",
    "\\begin{bmatrix}\n",
    "QR \\\\\n",
    "u^*\n",
    "\\end{bmatrix} =\n",
    "\\begin{bmatrix}\n",
    "0 & Q \\\\\n",
    "1 & 0\n",
    "\\end{bmatrix}\n",
    "\\begin{bmatrix}\n",
    "u^* \\\\\n",
    "R\n",
    "\\end{bmatrix}\n",
    "$\\\n",
    "\\\n",
    "Отсюда видно, что матрица слева очевидно ортогональная, и что матрица справа верхне-гессенберговая. Поэтому как и предидущем пункте её можно сделать верхнетреугольной с помощью преобразований Гивенса.\n"
   ]
  },
  {
   "cell_type": "code",
   "execution_count": 51,
   "metadata": {},
   "outputs": [
    {
     "data": {
      "text/plain": [
       "((2000, 2000), (2000, 1000))"
      ]
     },
     "execution_count": 51,
     "metadata": {},
     "output_type": "execute_result"
    }
   ],
   "source": [
    "A = np.random.rand(M, N)\n",
    "Q, R = np.linalg.qr(A, mode=\"complete\")\n",
    "Q.shape, R.shape"
   ]
  },
  {
   "cell_type": "markdown",
   "metadata": {},
   "source": [
    "Сгенерируем новую строчку\n"
   ]
  },
  {
   "cell_type": "code",
   "execution_count": 52,
   "metadata": {},
   "outputs": [
    {
     "data": {
      "text/plain": [
       "(1, 1000)"
      ]
     },
     "execution_count": 52,
     "metadata": {},
     "output_type": "execute_result"
    }
   ],
   "source": [
    "u = np.random.rand(1, N)\n",
    "u.shape"
   ]
  },
  {
   "cell_type": "markdown",
   "metadata": {},
   "source": [
    "Построим новые матрицы $Q$ и $R$\n"
   ]
  },
  {
   "cell_type": "code",
   "execution_count": 53,
   "metadata": {},
   "outputs": [
    {
     "data": {
      "text/plain": [
       "((2001, 2001), (2001, 1000))"
      ]
     },
     "execution_count": 53,
     "metadata": {},
     "output_type": "execute_result"
    }
   ],
   "source": [
    "R = np.vstack((u, R))\n",
    "Q_ = np.zeros((M + 1, M + 1))\n",
    "Q_[:-1, 1:] = Q\n",
    "Q_[M, 0] = 1\n",
    "Q = Q_\n",
    "Q.shape, R.shape"
   ]
  },
  {
   "cell_type": "code",
   "execution_count": 54,
   "metadata": {},
   "outputs": [
    {
     "name": "stdout",
     "output_type": "stream",
     "text": [
      "18 ms ± 397 µs per loop (mean ± std. dev. of 7 runs, 100 loops each)\n"
     ]
    }
   ],
   "source": [
    "%%timeit\n",
    "\n",
    "\n",
    "for column in range(N):  # O(MN)\n",
    "    givens_rotation(Q, R, column, column + 1, column)  # O(M)\n",
    "    R[column + 1, column] = 0  # для наглядности"
   ]
  },
  {
   "cell_type": "code",
   "execution_count": 49,
   "metadata": {},
   "outputs": [
    {
     "data": {
      "text/plain": [
       "array([[25.88998781, 19.15261435, 19.92530329, 19.66584846, 19.13928432],\n",
       "       [ 0.        , 17.59110229,  7.33702939,  7.82759444,  7.30712208],\n",
       "       [ 0.        ,  0.        , 15.01904284,  4.51790694,  4.65105228],\n",
       "       [ 0.        ,  0.        ,  0.        , 14.74042069,  3.3119909 ],\n",
       "       [ 0.        ,  0.        ,  0.        ,  0.        , 14.15388739],\n",
       "       [ 0.        ,  0.        ,  0.        ,  0.        ,  0.        ],\n",
       "       [ 0.        ,  0.        ,  0.        ,  0.        ,  0.        ],\n",
       "       [ 0.        ,  0.        ,  0.        ,  0.        ,  0.        ],\n",
       "       [ 0.        ,  0.        ,  0.        ,  0.        ,  0.        ],\n",
       "       [ 0.        ,  0.        ,  0.        ,  0.        ,  0.        ]])"
      ]
     },
     "execution_count": 49,
     "metadata": {},
     "output_type": "execute_result"
    }
   ],
   "source": [
    "for column in range(N):  # O(MN)\n",
    "    givens_rotation(Q, R, column, column + 1, column)  # O(M)\n",
    "    R[column + 1, column] = 0  # для наглядности\n",
    "R[:10, :5]"
   ]
  },
  {
   "cell_type": "markdown",
   "metadata": {},
   "source": [
    "Проверим корректность\n"
   ]
  },
  {
   "cell_type": "code",
   "execution_count": 50,
   "metadata": {},
   "outputs": [
    {
     "data": {
      "text/plain": [
       "True"
      ]
     },
     "execution_count": 50,
     "metadata": {},
     "output_type": "execute_result"
    }
   ],
   "source": [
    "A = np.vstack((A, u))\n",
    "np.isclose(A, Q @ R).all()"
   ]
  },
  {
   "cell_type": "markdown",
   "metadata": {},
   "source": [
    "Как видно мы получили QR разложение для новой матрицы $A$, потратив на это $O(MN)$ операций. Тесты скорости это подтверждают.\n"
   ]
  },
  {
   "cell_type": "markdown",
   "metadata": {},
   "source": [
    "### 3\n"
   ]
  },
  {
   "cell_type": "markdown",
   "metadata": {},
   "source": [
    "Этот случай является частным случаем пункта 1. Но его можно сделать по другому, не используя преобразование Гивенса.\\\n",
    "Возьмем сокращенное QR разложение. Сделаем проекцию вектора $u$ на столбцы матрицы $Q$: $QQ^*u$. Тогда вектор $u - QQ^*u$ будет ортогонален всем столбцам матрицы $Q$, поэтому его можно включить в неё, заранее нормировав. Тогда в матрице $R$ нужно будет добавить $Q^*u$.\n"
   ]
  },
  {
   "cell_type": "code",
   "execution_count": 104,
   "metadata": {},
   "outputs": [
    {
     "data": {
      "text/plain": [
       "((2000, 1000), (1000, 1000))"
      ]
     },
     "execution_count": 104,
     "metadata": {},
     "output_type": "execute_result"
    }
   ],
   "source": [
    "A = np.random.rand(M, N)\n",
    "Q, R = np.linalg.qr(A)\n",
    "Q.shape, R.shape"
   ]
  },
  {
   "cell_type": "markdown",
   "metadata": {},
   "source": [
    "Сгенерируем новый столбец\n"
   ]
  },
  {
   "cell_type": "code",
   "execution_count": 105,
   "metadata": {},
   "outputs": [
    {
     "data": {
      "text/plain": [
       "(2000, 1)"
      ]
     },
     "execution_count": 105,
     "metadata": {},
     "output_type": "execute_result"
    }
   ],
   "source": [
    "u = np.random.rand(M, 1)\n",
    "u.shape"
   ]
  },
  {
   "cell_type": "markdown",
   "metadata": {},
   "source": [
    "Применим преобразования, описанные ранее\n"
   ]
  },
  {
   "cell_type": "code",
   "execution_count": 102,
   "metadata": {},
   "outputs": [
    {
     "name": "stdout",
     "output_type": "stream",
     "text": [
      "94.7 µs ± 2.53 µs per loop (mean ± std. dev. of 7 runs, 10,000 loops each)\n"
     ]
    }
   ],
   "source": [
    "%%timeit\n",
    "\n",
    "\n",
    "u_coeffs = Q.T @ u  # O(MN)\n",
    "q = u - Q @ u_coeffs  # O(MN)\n",
    "q_norm = np.linalg.norm(q)\n",
    "q /= q_norm"
   ]
  },
  {
   "cell_type": "code",
   "execution_count": 106,
   "metadata": {},
   "outputs": [],
   "source": [
    "u_coeffs = Q.T @ u  # O(MN)\n",
    "q = u - Q @ u_coeffs  # O(MN)\n",
    "q_norm = np.linalg.norm(q)\n",
    "q /= q_norm\n",
    "Q = np.hstack((Q, q))\n",
    "R_ = np.zeros((N + 1, N + 1))\n",
    "R_[:-1, :-1] = R\n",
    "R_[:-1, -1] = u_coeffs[:, 0]\n",
    "R_[-1, -1] = q_norm\n",
    "R = R_"
   ]
  },
  {
   "cell_type": "markdown",
   "metadata": {},
   "source": [
    "Проверим корректность\n"
   ]
  },
  {
   "cell_type": "code",
   "execution_count": 107,
   "metadata": {},
   "outputs": [
    {
     "data": {
      "text/plain": [
       "True"
      ]
     },
     "execution_count": 107,
     "metadata": {},
     "output_type": "execute_result"
    }
   ],
   "source": [
    "A = np.hstack((A, u))\n",
    "np.isclose(A, Q @ R).all()"
   ]
  },
  {
   "cell_type": "markdown",
   "metadata": {},
   "source": [
    "Как видим всё корректно. И мы построили новое разложение за $O(MN)$.\n"
   ]
  },
  {
   "cell_type": "markdown",
   "metadata": {},
   "source": [
    "###\n",
    "\n",
    "- (3 pts) Пусть $A$ такая матрица, что $a_{i,j} \\geq 0$ и $\\sum_{j}a_{i,j} = 1$ (сумма элементов вкаждой строке равна 1). Докажите, что $A$ имеет собственное значение $\\lambda=1$ и что все собственные значения $\\lambda_i$ таковы что $|\\lambda_i| \\le 1$\n",
    "\n",
    "  $|A - \\lambda I| =\n",
    "\\begin{vmatrix}\n",
    "a_{11} - \\lambda & \\dots & a_{1n} \\\\\n",
    "\\dots & \\dots & \\dots \\\\\n",
    "a_{n1} & \\dots & a_{nn} - \\lambda\n",
    "\\end{vmatrix}_{n\\times n}\n",
    "=\n",
    "\\begin{vmatrix}\n",
    "a_{11} - \\lambda & \\dots & 1 - \\lambda \\\\\n",
    "\\dots & \\dots & \\dots \\\\\n",
    "a_{n1} & \\dots & 1 - \\lambda\n",
    "\\end{vmatrix}_{n\\times n}\n",
    "\\Rightarrow \\lambda = 1\n",
    "$ - собственное значение\n",
    "\n",
    "  $\\rho (A) \\leq \\| A \\|$ для любой матричной нормы (в частности для бесконечной)\\\n",
    "   $\\rho (A) \\leq \\| A \\|_\\infty = \\max \\limits_{1 \\leq i \\leq n} \\sum \\limits_{j = 1}^n |a_{ij}| = \\max \\limits_{1 \\leq i \\leq n} \\sum \\limits_{j = 1}^n a_{ij} = 1 \\Rightarrow |\\lambda_i| \\leq 1$\n",
    "\n",
    "- (3 pts) Докажите, что нормальная матрица Эрмитова iff её собственные значения действительны. Докажите, что нормальная матрица унитарна iff все её собственные значения таковы что $|\\lambda| = 1$.\n",
    "\n",
    "  Если матрица нормальная:\n",
    "\n",
    "  $A = U\\Lambda U^* = U\\Lambda^* U^* = A^* \\Leftrightarrow \\Lambda = \\Lambda^*$\\\n",
    "  $AA^* = U\\Lambda U^*U\\Lambda^* U^* = U\\Lambda\\Lambda^* U^* = I, A^*A = U\\Lambda^* U^*U\\Lambda U^* = U\\Lambda^*\\Lambda U^* = I \\Leftrightarrow \\Lambda^*\\Lambda = \\Lambda\\Lambda^* = I$\n",
    "\n",
    "- (5 pts) Найдите аналитическое выражение для собственнных значений возмущённого Жорданова блока\n",
    "\n",
    "  $$\n",
    "  J(\\varepsilon) =\n",
    "      \\begin{bmatrix}\n",
    "       \\lambda & 1 & & & 0 \\\\\n",
    "      0 & \\lambda & 1 & & \\\\\n",
    "       0 & 0 & \\ddots & \\ddots & \\\\\n",
    "       \\ldots & \\ldots & \\ldots & \\lambda & 1 \\\\\n",
    "       \\varepsilon & 0 & 0 & 0 & \\lambda  \\\\\n",
    "      \\end{bmatrix}_{n\\times n}\n",
    "  $$\n",
    "\n",
    "  $\n",
    "  |J(\\varepsilon) - xI| =\n",
    "  \\begin{vmatrix}\n",
    "  \\lambda - x & 1 & & & 0 \\\\\n",
    "  0 & \\lambda - x & 1 & & \\\\\n",
    "  0 & 0 & \\ddots & \\ddots & \\\\\n",
    "  \\ldots & \\ldots & \\ldots & \\lambda - x & 1 \\\\\n",
    "  \\varepsilon & 0 & 0 & 0 & \\lambda - x \\\\\n",
    "  \\end{vmatrix}_{n\\times n} =\n",
    "  (\\lambda - x)\n",
    "  \\begin{vmatrix}\n",
    "  \\lambda - x & 1 & & \\\\\n",
    "  0 & \\ddots & \\ddots & \\\\\n",
    "  \\ldots & \\ldots & \\lambda - x & 1 \\\\\n",
    "  0 & 0 & 0 & \\lambda - x \\\\\n",
    "  \\end{vmatrix}_{n\\times n} +\n",
    "  (-1) ^ {n - 1} \\varepsilon\n",
    "  \\begin{vmatrix}\n",
    "  1 & & & 0 \\\\\n",
    "  \\lambda - x & 1 & & \\\\\n",
    "  0 & \\ddots & \\ddots & \\\\\n",
    "  \\ldots & \\ldots & \\lambda - x & 1 \\\\\n",
    "  \\end{vmatrix}\\_{n\\times n} =\n",
    "  (\\lambda - x)^n + (-1) ^ {n - 1} \\varepsilon = 0\n",
    "  $\n",
    "\n",
    "  $(\\lambda - x)^n = (-1)^n \\varepsilon$\n",
    "\n",
    "  $|\\lambda - x|^n = |\\varepsilon|$\n",
    "\n",
    "  $|\\lambda - x| = |\\varepsilon|^{\\frac{1}{n}} \\rightarrow 1$\n",
    "\n",
    "  Прокомментируйте как собственные значения $J(0)$ возмущены для больших $n$? Что это говорит об устойчивости получения спектра матрицы через Жорданов блок?\n",
    "\n",
    "  Для больших $n$ собственные значения стремятся изменится по модулю на $1$. Из этого мы можем сделать вывод, что считать спектр матрицы через ЖНФ не самая лучшая идея, так как эти вычисления неустойчивы.\n"
   ]
  }
 ],
 "metadata": {
  "kernelspec": {
   "display_name": "Python 3 (ipykernel)",
   "language": "python",
   "name": "python3"
  },
  "language_info": {
   "codemirror_mode": {
    "name": "ipython",
    "version": 3
   },
   "file_extension": ".py",
   "mimetype": "text/x-python",
   "name": "python",
   "nbconvert_exporter": "python",
   "pygments_lexer": "ipython3",
   "version": "3.11.5"
  }
 },
 "nbformat": 4,
 "nbformat_minor": 2
}
